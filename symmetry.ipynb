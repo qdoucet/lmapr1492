{
 "cells": [
  {
   "cell_type": "code",
   "execution_count": 148,
   "id": "94ed2c3c",
   "metadata": {},
   "outputs": [],
   "source": [
    "from pymatgen.ext.matproj import MPRester\n",
    "with MPRester(\"VK9U10BEjITOk1kneKKl\") as m:\n",
    "\n",
    "    # Structure for material id\n",
    "    structure = m.get_structure_by_material_id(\"mp-924128\")\n",
    "    \n",
    "structure.to(filename=\"HfNiSn.cif\")"
   ]
  },
  {
   "cell_type": "code",
   "execution_count": 149,
   "id": "977f9130",
   "metadata": {},
   "outputs": [],
   "source": [
    "from pymatgen import Structure\n",
    "from pymatgen.symmetry.analyzer import SpacegroupAnalyzer\n",
    "from jupyter_jsmol.pymatgen import quick_view\n",
    "from pymatgen.core.operations import SymmOp"
   ]
  },
  {
   "cell_type": "code",
   "execution_count": 179,
   "id": "349b1c5b",
   "metadata": {},
   "outputs": [],
   "source": [
    "# Opérations de symétrie\n",
    "analyzer = SpacegroupAnalyzer(structure).get_symmetry_operations()\n",
    "S1 = analyzer[10]\n",
    "S2 = analyzer[2]\n",
    "S3 = analyzer[3]\n",
    "\n",
    "# Atomes\n",
    "#Hf = [0.0000, 0.0000, 1.0000] #4\n",
    "Hf = [1.0000, 0.0000, 0.0000] #8\n",
    "Ni = [0.2500, 0.2500, 0.2500] #2\n",
    "Sn = [0.5000, 0.5000, 0.5000] #3\n",
    "\n",
    "# Application des opérations de symétrie\n",
    "Hf2 = S1.operate(Hf)\n",
    "Ni2 = S2.operate(Ni)\n",
    "Sn2 = S3.operate(Sn)\n"
   ]
  },
  {
   "cell_type": "code",
   "execution_count": 180,
   "id": "92bbae5f",
   "metadata": {},
   "outputs": [
    {
     "name": "stdout",
     "output_type": "stream",
     "text": [
      "Opération de symétrie sur Hf: plan miroir (z,y,x) \n",
      "\n",
      "Rot:\n",
      "[[0. 1. 0.]\n",
      " [0. 0. 1.]\n",
      " [1. 0. 0.]]\n",
      "tau\n",
      "[0. 0. 0.] \n",
      "\n",
      "Atome de départ :  [1.0, 0.0, 0.0] \n",
      "\n",
      "Atome après symétrie :  [0. 0. 1.]\n"
     ]
    },
    {
     "data": {
      "application/vnd.jupyter.widget-view+json": {
       "model_id": "87b252942b4540d8b055d5f8228a6c07",
       "version_major": 2,
       "version_minor": 0
      },
      "text/plain": [
       "JsmolView(layout=Layout(align_self='stretch', height='400px'))"
      ]
     },
     "metadata": {},
     "output_type": "display_data"
    }
   ],
   "source": [
    "print(\"Opération de symétrie sur Hf: plan miroir (z,y,x) \\n\")\n",
    "print(S1,\"\\n\")\n",
    "print(\"Atome de départ : \",Hf,\"\\n\")\n",
    "print(\"Atome après symétrie : \",Hf2)\n",
    "\n",
    "view = quick_view(structure)\n",
    "display(view)\n",
    "view.script(\"draw symop 8 {atomno=8}\")"
   ]
  },
  {
   "cell_type": "code",
   "execution_count": 181,
   "id": "66a7b7df",
   "metadata": {},
   "outputs": [
    {
     "name": "stdout",
     "output_type": "stream",
     "text": [
      "Opération de symétrie sur Ni: axe C2 (z,-x-y-z,x)\n",
      "\n",
      "Rot:\n",
      "[[ 0.  0.  1.]\n",
      " [-1. -1. -1.]\n",
      " [ 1.  0.  0.]]\n",
      "tau\n",
      "[0. 0. 0.] \n",
      "\n",
      "Atome de départ :  [0.25, 0.25, 0.25] \n",
      "\n",
      "Atome après symétrie :  [ 0.25 -0.75  0.25]\n"
     ]
    },
    {
     "data": {
      "application/vnd.jupyter.widget-view+json": {
       "model_id": "bd5f6aef37824e69bae17a0d358dfcbb",
       "version_major": 2,
       "version_minor": 0
      },
      "text/plain": [
       "JsmolView(layout=Layout(align_self='stretch', height='400px'))"
      ]
     },
     "metadata": {},
     "output_type": "display_data"
    }
   ],
   "source": [
    "print(\"Opération de symétrie sur Ni: axe C2 (z,-x-y-z,x)\\n\")\n",
    "print(S2,\"\\n\")\n",
    "print(\"Atome de départ : \",Ni,\"\\n\")\n",
    "print(\"Atome après symétrie : \",Ni2)\n",
    "\n",
    "view = quick_view(structure)\n",
    "display(view)\n",
    "view.script(\"draw symop 3 {atomno=2}\")"
   ]
  },
  {
   "cell_type": "code",
   "execution_count": 182,
   "id": "a61a1ce4",
   "metadata": {},
   "outputs": [
    {
     "name": "stdout",
     "output_type": "stream",
     "text": [
      "Opération de symétrie sur Sn: axe 4-bar|centre d'inversion en 0 0 0 (-x-y-z,x,y)\n",
      "\n",
      "Rot:\n",
      "[[-1. -1. -1.]\n",
      " [ 1.  0.  0.]\n",
      " [ 0.  1.  0.]]\n",
      "tau\n",
      "[0. 0. 0.] \n",
      "\n",
      "Atome de départ :  [0.5, 0.5, 0.5] \n",
      "\n",
      "Atome après symétrie :  [-1.5  0.5  0.5]\n"
     ]
    },
    {
     "data": {
      "application/vnd.jupyter.widget-view+json": {
       "model_id": "af0e2c64efcc4df9ad1544269905dcf4",
       "version_major": 2,
       "version_minor": 0
      },
      "text/plain": [
       "JsmolView(layout=Layout(align_self='stretch', height='400px'))"
      ]
     },
     "metadata": {},
     "output_type": "display_data"
    }
   ],
   "source": [
    "print(\"Opération de symétrie sur Sn: axe 4-bar|centre d'inversion en 0 0 0 (-x-y-z,x,y)\\n\")\n",
    "print(S3,\"\\n\")\n",
    "print(\"Atome de départ : \",Sn,\"\\n\")\n",
    "print(\"Atome après symétrie : \",Sn2)\n",
    "\n",
    "view = quick_view(structure)\n",
    "display(view)\n",
    "view.script(\"draw symop 2 {atomno=3}\")"
   ]
  },
  {
   "cell_type": "code",
   "execution_count": null,
   "id": "e3d24799",
   "metadata": {},
   "outputs": [],
   "source": []
  },
  {
   "cell_type": "code",
   "execution_count": null,
   "id": "1f7400b4",
   "metadata": {},
   "outputs": [],
   "source": []
  }
 ],
 "metadata": {
  "kernelspec": {
   "display_name": "Python 3",
   "language": "python",
   "name": "python3"
  },
  "language_info": {
   "codemirror_mode": {
    "name": "ipython",
    "version": 3
   },
   "file_extension": ".py",
   "mimetype": "text/x-python",
   "name": "python",
   "nbconvert_exporter": "python",
   "pygments_lexer": "ipython3",
   "version": "3.6.8"
  }
 },
 "nbformat": 4,
 "nbformat_minor": 5
}
