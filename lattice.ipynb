{
 "cells": [
  {
   "cell_type": "code",
   "execution_count": 41,
   "id": "a3f6943a",
   "metadata": {},
   "outputs": [],
   "source": [
    "from pymatgen.ext.matproj import MPRester\n",
    "with MPRester(\"VK9U10BEjITOk1kneKKl\") as m:\n",
    "\n",
    "    # Structure for material id\n",
    "    structure = m.get_structure_by_material_id(\"mp-924128\")\n",
    "    \n",
    "structure.to(filename=\"HfNiSn.cif\")"
   ]
  },
  {
   "cell_type": "code",
   "execution_count": 42,
   "id": "224d2f80",
   "metadata": {},
   "outputs": [],
   "source": [
    "from pymatgen import Structure\n",
    "from pymatgen.symmetry.analyzer import SpacegroupAnalyzer\n",
    "from jupyter_jsmol.pymatgen import quick_view"
   ]
  },
  {
   "cell_type": "code",
   "execution_count": 43,
   "id": "5de52384",
   "metadata": {},
   "outputs": [],
   "source": [
    "lattice = structure.lattice\n",
    "reciprocal_lattice = lattice.reciprocal_lattice\n",
    "\n",
    "l = lattice.lengths\n",
    "angle = lattice.angles\n",
    "l_rec = reciprocal_lattice.lengths\n",
    "angle_rec= reciprocal_lattice.angles\n",
    "\n",
    "analyzer = SpacegroupAnalyzer(structure)\n",
    "\n",
    "lattice_type = analyzer.get_lattice_type()\n",
    "system = analyzer.get_crystal_system()\n",
    "point_group = analyzer.get_point_group_symbol()"
   ]
  },
  {
   "cell_type": "code",
   "execution_count": 44,
   "id": "db1f89ef",
   "metadata": {},
   "outputs": [
    {
     "name": "stdout",
     "output_type": "stream",
     "text": [
      "Vecteurs de base du réseau direct :\n",
      "\n",
      "Longeurs :\n",
      "a =  4.323625626768581\n",
      "b =  4.323625626768581\n",
      "c =  4.323625626768581\n",
      "Angles correspondants :\n",
      "60.00000000000001 60.00000000000001 60.00000000000001\n"
     ]
    }
   ],
   "source": [
    "print(\"Vecteurs de base du réseau direct :\\n\")\n",
    "print(\"Longeurs :\")\n",
    "print(\"a = \", l[0])\n",
    "print(\"b = \", l[1])\n",
    "print(\"c = \", l[2])\n",
    "print(\"Angles correspondants :\")\n",
    "print(angle[0],angle[1],angle[2])"
   ]
  },
  {
   "cell_type": "code",
   "execution_count": 45,
   "id": "f32c425b",
   "metadata": {},
   "outputs": [
    {
     "name": "stdout",
     "output_type": "stream",
     "text": [
      "Vecteurs de base du réseau réciproque :\n",
      "\n",
      "Longeurs :\n",
      "a* =  1.7798254625302854\n",
      "b* =  1.7798254625302854\n",
      "c* =  1.7798254625302854\n",
      "Angles correspondants :\n",
      "109.47122063449069 109.47122063449069 109.47122063449069\n"
     ]
    }
   ],
   "source": [
    "print(\"Vecteurs de base du réseau réciproque :\\n\")\n",
    "print(\"Longeurs :\")\n",
    "print(\"a* = \", l_rec[0])\n",
    "print(\"b* = \", l_rec[1])\n",
    "print(\"c* = \", l_rec[2])\n",
    "print(\"Angles correspondants :\")\n",
    "print(angle_rec[0],angle_rec[1],angle_rec[2])"
   ]
  },
  {
   "cell_type": "code",
   "execution_count": 46,
   "id": "ef77c6d3",
   "metadata": {},
   "outputs": [
    {
     "name": "stdout",
     "output_type": "stream",
     "text": [
      "Type de maille :  cubic\n",
      "Système Cristallin :  cubic\n",
      "Groupe ponctuel :  -43m\n"
     ]
    }
   ],
   "source": [
    "print(\"Type de maille : \", lattice_type)\n",
    "print(\"Système Cristallin : \",system)\n",
    "print(\"Groupe ponctuel : \", point_group)"
   ]
  },
  {
   "cell_type": "code",
   "execution_count": null,
   "id": "14f816e4",
   "metadata": {},
   "outputs": [],
   "source": []
  }
 ],
 "metadata": {
  "kernelspec": {
   "display_name": "Python 3",
   "language": "python",
   "name": "python3"
  },
  "language_info": {
   "codemirror_mode": {
    "name": "ipython",
    "version": 3
   },
   "file_extension": ".py",
   "mimetype": "text/x-python",
   "name": "python",
   "nbconvert_exporter": "python",
   "pygments_lexer": "ipython3",
   "version": "3.6.8"
  }
 },
 "nbformat": 4,
 "nbformat_minor": 5
}
